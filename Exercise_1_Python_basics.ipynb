{
  "nbformat": 4,
  "nbformat_minor": 0,
  "metadata": {
    "colab": {
      "provenance": [],
      "include_colab_link": true
    },
    "kernelspec": {
      "name": "python3",
      "display_name": "Python 3"
    },
    "language_info": {
      "name": "python"
    }
  },
  "cells": [
    {
      "cell_type": "markdown",
      "metadata": {
        "id": "view-in-github",
        "colab_type": "text"
      },
      "source": [
        "<a href=\"https://colab.research.google.com/github/oussamachakeur/-alx-system_engineering-devops11/blob/main/Exercise_1_Python_basics.ipynb\" target=\"_parent\"><img src=\"https://colab.research.google.com/assets/colab-badge.svg\" alt=\"Open In Colab\"/></a>"
      ]
    },
    {
      "cell_type": "markdown",
      "source": [
        "### Let's solve some problems using python"
      ],
      "metadata": {
        "id": "is8L07fhfLXi"
      }
    },
    {
      "cell_type": "markdown",
      "source": [
        "#### Problem 1\n",
        "\n",
        "Write a Python function that takes a list of numbers as an argument and returns the largest number in the list."
      ],
      "metadata": {
        "id": "S4-LKTRifaY-"
      }
    },
    {
      "cell_type": "code",
      "execution_count": 5,
      "metadata": {
        "colab": {
          "base_uri": "https://localhost:8080/"
        },
        "id": "EosDAs0afKGR",
        "outputId": "a5278eeb-9b8a-431b-f739-d438292ccc21"
      },
      "outputs": [
        {
          "output_type": "stream",
          "name": "stdout",
          "text": [
            "8\n"
          ]
        }
      ],
      "source": [
        "def find_largest(nums):\n",
        "    largest= nums[0]\n",
        "    for num in nums:\n",
        "      if num>largest:\n",
        "        largest= num\n",
        "    return largest\n",
        "\n",
        "numbers = [3, 5, 2, 8, 4]\n",
        "print(find_largest(numbers)) # Output: 8"
      ]
    },
    {
      "cell_type": "markdown",
      "source": [
        "#### Problem 2\n",
        "\n",
        "Write a Python function that takes a string as an argument and returns the number of vowels in the string."
      ],
      "metadata": {
        "id": "acDUKDrMfgBl"
      }
    },
    {
      "cell_type": "code",
      "source": [
        "def count_vowels(s):\n",
        "    vowels= \"aeiouAEIOU\"\n",
        "    count=0\n",
        "    for char in s:\n",
        "      if char in vowels:\n",
        "        count+=1\n",
        "    return count\n",
        "sentence = \"Hello, World!\"\n",
        "print(count_vowels(sentence)) # Output: 3"
      ],
      "metadata": {
        "colab": {
          "base_uri": "https://localhost:8080/"
        },
        "id": "hOjDeQsFfukE",
        "outputId": "17d3f738-d156-409e-fc71-6d60379a9240"
      },
      "execution_count": 7,
      "outputs": [
        {
          "output_type": "stream",
          "name": "stdout",
          "text": [
            "3\n"
          ]
        }
      ]
    },
    {
      "cell_type": "markdown",
      "source": [
        "#### Problem 3\n",
        "\n",
        "Write a Python function that takes a list of strings as an argument and returns a list of strings that contains only the even-length strings from the original list."
      ],
      "metadata": {
        "id": "7i1eB4mEf5K0"
      }
    },
    {
      "cell_type": "code",
      "source": [
        "def even_length_strings(strings):\n",
        "    even_strings=[]\n",
        "    for string in strings:\n",
        "      if len(string)%2==0:\n",
        "        even_strings.append(string)\n",
        "    return even_strings\n",
        "    return even_strings\n",
        "\n",
        "words = ['cat', 'dog', 'bird', 'monkey', 'elephant']\n",
        "print(even_length_strings(words)) # Output: ['bird', 'monkey', 'elephant']"
      ],
      "metadata": {
        "colab": {
          "base_uri": "https://localhost:8080/"
        },
        "id": "VW8K2QvOgBBW",
        "outputId": "1835654b-f62d-4f96-92e5-4cdcbb7b2523"
      },
      "execution_count": 8,
      "outputs": [
        {
          "output_type": "stream",
          "name": "stdout",
          "text": [
            "['bird', 'monkey', 'elephant']\n"
          ]
        }
      ]
    },
    {
      "cell_type": "markdown",
      "source": [
        "#### Problem 4\n",
        "Write a Python function that takes a list of integers as an argument and returns the sum of the squares of the integers in the list."
      ],
      "metadata": {
        "id": "FsxPtkOzgD6G"
      }
    },
    {
      "cell_type": "code",
      "source": [
        "def sum_of_squares(nums):\n",
        "    sum=0\n",
        "    for num in nums:\n",
        "      sum+=num**2\n",
        "\n",
        "    return sum\n",
        "\n",
        "numbers = [1, 2, 3, 4, 5]\n",
        "print(sum_of_squares(numbers)) # Output: 55"
      ],
      "metadata": {
        "colab": {
          "base_uri": "https://localhost:8080/"
        },
        "id": "vvobz4dagMAj",
        "outputId": "927ce9f3-1ee5-4fb8-84c8-c9a681bcdc68"
      },
      "execution_count": 9,
      "outputs": [
        {
          "output_type": "stream",
          "name": "stdout",
          "text": [
            "55\n"
          ]
        }
      ]
    },
    {
      "cell_type": "markdown",
      "source": [
        "#### Problem 5\n",
        "\n",
        "Palindrome checker: Write a function that takes in a string and returns a Boolean indicating whether the string is a palindrome (a word or phrase that reads the same backwards as forwards).\n"
      ],
      "metadata": {
        "id": "-jostKEcgR38"
      }
    },
    {
      "cell_type": "code",
      "source": [
        "def is_palindrome(s):\n",
        "    s=s.lower()\n",
        "    s=s.replace(\" \",\"\")\n",
        "    if s==s[::-1]:\n",
        "      return True\n",
        "    else:\n",
        "      return False\n",
        "\n",
        "\n",
        "print(is_palindrome(\"racecar\")) # True\n",
        "print(is_palindrome(\"hello\")) # False"
      ],
      "metadata": {
        "colab": {
          "base_uri": "https://localhost:8080/"
        },
        "id": "XMH6lV_QgUFW",
        "outputId": "a3caf3d4-7d8c-4a8b-9761-6cef6cbd0b40"
      },
      "execution_count": 12,
      "outputs": [
        {
          "output_type": "stream",
          "name": "stdout",
          "text": [
            "True\n",
            "False\n"
          ]
        }
      ]
    },
    {
      "cell_type": "markdown",
      "source": [
        "#### Problem 6\n",
        "FizzBuzz: Write a program that prints the numbers from 1 to 100. But for multiples of three print \"Fizz\" instead of the number and for the multiples of five print \"Buzz\". For numbers which are multiples of both three and five print \"FizzBuzz\"."
      ],
      "metadata": {
        "id": "81uK06hsgaGg"
      }
    },
    {
      "cell_type": "code",
      "source": [
        "for i in range(1, 101):\n",
        "    if i % 3 == 0 and i % 5 == 0:\n",
        "        print(\"FizzBuzz\")\n",
        "    elif i % 3 == 0:\n",
        "        print(\"Fizz\")\n",
        "    elif i % 5 == 0:\n",
        "        print(\"Buzz\")\n",
        "    else:\n",
        "        print(i)"
      ],
      "metadata": {
        "id": "D60mDxyOgb0K",
        "outputId": "84436892-5675-40ce-ad31-1523122ba460",
        "colab": {
          "base_uri": "https://localhost:8080/"
        }
      },
      "execution_count": 11,
      "outputs": [
        {
          "output_type": "stream",
          "name": "stdout",
          "text": [
            "1\n",
            "2\n",
            "Fizz\n",
            "4\n",
            "Buzz\n",
            "Fizz\n",
            "7\n",
            "8\n",
            "Fizz\n",
            "Buzz\n",
            "11\n",
            "Fizz\n",
            "13\n",
            "14\n",
            "FizzBuzz\n",
            "16\n",
            "17\n",
            "Fizz\n",
            "19\n",
            "Buzz\n",
            "Fizz\n",
            "22\n",
            "23\n",
            "Fizz\n",
            "Buzz\n",
            "26\n",
            "Fizz\n",
            "28\n",
            "29\n",
            "FizzBuzz\n",
            "31\n",
            "32\n",
            "Fizz\n",
            "34\n",
            "Buzz\n",
            "Fizz\n",
            "37\n",
            "38\n",
            "Fizz\n",
            "Buzz\n",
            "41\n",
            "Fizz\n",
            "43\n",
            "44\n",
            "FizzBuzz\n",
            "46\n",
            "47\n",
            "Fizz\n",
            "49\n",
            "Buzz\n",
            "Fizz\n",
            "52\n",
            "53\n",
            "Fizz\n",
            "Buzz\n",
            "56\n",
            "Fizz\n",
            "58\n",
            "59\n",
            "FizzBuzz\n",
            "61\n",
            "62\n",
            "Fizz\n",
            "64\n",
            "Buzz\n",
            "Fizz\n",
            "67\n",
            "68\n",
            "Fizz\n",
            "Buzz\n",
            "71\n",
            "Fizz\n",
            "73\n",
            "74\n",
            "FizzBuzz\n",
            "76\n",
            "77\n",
            "Fizz\n",
            "79\n",
            "Buzz\n",
            "Fizz\n",
            "82\n",
            "83\n",
            "Fizz\n",
            "Buzz\n",
            "86\n",
            "Fizz\n",
            "88\n",
            "89\n",
            "FizzBuzz\n",
            "91\n",
            "92\n",
            "Fizz\n",
            "94\n",
            "Buzz\n",
            "Fizz\n",
            "97\n",
            "98\n",
            "Fizz\n",
            "Buzz\n"
          ]
        }
      ]
    },
    {
      "cell_type": "markdown",
      "source": [
        "#### Problem 7\n",
        "\n",
        "Reverse a list: Write a function that takes in a list and returns a new list with the elements in reverse order."
      ],
      "metadata": {
        "id": "G0EZtuLBgjEF"
      }
    },
    {
      "cell_type": "code",
      "source": [
        "def reverse_list(lst):\n",
        "    reversed_list=lst[::-1]\n",
        "    return reversed_list\n",
        "\n",
        "print(reverse_list([1, 2, 3, 4, 5])) # [5, 4, 3, 2, 1]"
      ],
      "metadata": {
        "colab": {
          "base_uri": "https://localhost:8080/"
        },
        "id": "4crPJlVPgnLR",
        "outputId": "400b9e7b-f228-4735-8bd4-e6a5506585b1"
      },
      "execution_count": 13,
      "outputs": [
        {
          "output_type": "stream",
          "name": "stdout",
          "text": [
            "[5, 4, 3, 2, 1]\n"
          ]
        }
      ]
    },
    {
      "cell_type": "markdown",
      "source": [
        "#### Problem 8\n",
        "Leap year checker: Write a function that takes in a year and returns a Boolean indicating whether the year is a leap year. A leap year is divisible by 4, but not divisible by 100 unless it is also divisible by 400."
      ],
      "metadata": {
        "id": "wA8jvSz4gukg"
      }
    },
    {
      "cell_type": "code",
      "source": [
        "def is_leap_year(year):\n",
        "    if (year % 4 == 0 and year % 100 != 0) or (year % 400 == 0):\n",
        "        return True\n",
        "    else:\n",
        "        return False\n",
        "\n",
        "print(is_leap_year(2000)) # True\n",
        "print(is_leap_year(1900)) # False"
      ],
      "metadata": {
        "colab": {
          "base_uri": "https://localhost:8080/"
        },
        "id": "XEpz4CEhgwjT",
        "outputId": "8cef468a-9dc6-471a-9e66-56c097cae5bc"
      },
      "execution_count": 14,
      "outputs": [
        {
          "output_type": "stream",
          "name": "stdout",
          "text": [
            "True\n",
            "False\n"
          ]
        }
      ]
    },
    {
      "cell_type": "markdown",
      "source": [
        "#### Problem 9\n",
        "Flatten a nested list: Write a function that takes in a nested list and returns a new list with all the elements flattened."
      ],
      "metadata": {
        "id": "xAJOY0ppg0s2"
      }
    },
    {
      "cell_type": "code",
      "source": [
        "def flatten_list(lst):\n",
        "    flattened_list=[]\n",
        "    for item in lst:\n",
        "      if isinstance(item, list):\n",
        "        flattened_list.extend(flatten_list(item))\n",
        "      else:\n",
        "        flattened_list.append(item)\n",
        "    return flattened_list\n",
        "\n",
        "\n",
        "\n",
        "print(flatten_list([1, [2, [3, 4], 5]])) # [1, 2, 3, 4, 5]"
      ],
      "metadata": {
        "colab": {
          "base_uri": "https://localhost:8080/"
        },
        "id": "h_50W0Ymg5WL",
        "outputId": "a0088b68-0cc3-436b-db46-072e0ca57003"
      },
      "execution_count": 15,
      "outputs": [
        {
          "output_type": "stream",
          "name": "stdout",
          "text": [
            "[1, 2, 3, 4, 5]\n"
          ]
        }
      ]
    },
    {
      "cell_type": "markdown",
      "source": [
        "#### Problem 10\n",
        "\n",
        "Fibonacci Sequence Generator: Write a function that generates the Fibonacci sequence up to a given number of terms. The Fibonacci sequence is a series of numbers in which each number is the sum of the two preceding ones, usually starting with 0 and 1."
      ],
      "metadata": {
        "id": "AvO6oSuahAjF"
      }
    },
    {
      "cell_type": "code",
      "source": [
        "def fibonacci(n):\n",
        "    fib_list=[0,1]\n",
        "    for i in range(2,n):\n",
        "      fib_list.append(fib_list[i-1]+fib_list[i-2])\n",
        "\n",
        "    return fib_list\n",
        "\n",
        "print(fibonacci(10)) # [0, 1, 1, 2, 3, 5, 8, 13, 21, 34]"
      ],
      "metadata": {
        "colab": {
          "base_uri": "https://localhost:8080/"
        },
        "id": "vYtQEHdXhCJa",
        "outputId": "510cd5df-ae97-4808-d3fd-b15b2f54baa4"
      },
      "execution_count": 17,
      "outputs": [
        {
          "output_type": "stream",
          "name": "stdout",
          "text": [
            "[0, 1, 1, 2, 3, 5, 8, 13, 21, 34]\n"
          ]
        }
      ]
    }
  ]
}