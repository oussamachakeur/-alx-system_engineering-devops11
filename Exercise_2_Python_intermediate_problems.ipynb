{
  "nbformat": 4,
  "nbformat_minor": 0,
  "metadata": {
    "colab": {
      "provenance": [],
      "include_colab_link": true
    },
    "kernelspec": {
      "name": "python3",
      "display_name": "Python 3"
    },
    "language_info": {
      "name": "python"
    }
  },
  "cells": [
    {
      "cell_type": "markdown",
      "metadata": {
        "id": "view-in-github",
        "colab_type": "text"
      },
      "source": [
        "<a href=\"https://colab.research.google.com/github/oussamachakeur/-alx-system_engineering-devops11/blob/main/Exercise_2_Python_intermediate_problems.ipynb\" target=\"_parent\"><img src=\"https://colab.research.google.com/assets/colab-badge.svg\" alt=\"Open In Colab\"/></a>"
      ]
    },
    {
      "cell_type": "markdown",
      "source": [
        "Let's reinforce the concepts we've learnt"
      ],
      "metadata": {
        "id": "l3RGTWa9rlKG"
      }
    },
    {
      "cell_type": "markdown",
      "source": [
        "### Problem 1\n",
        "Write a function to calculate the factorial of a number."
      ],
      "metadata": {
        "id": "fGc6hfgWg8S4"
      }
    },
    {
      "cell_type": "code",
      "execution_count": 1,
      "metadata": {
        "id": "xh10KMV37Zac",
        "outputId": "31da13b5-ce44-4cf2-c2f8-e52e49653bef",
        "colab": {
          "base_uri": "https://localhost:8080/"
        }
      },
      "outputs": [
        {
          "output_type": "stream",
          "name": "stdout",
          "text": [
            "120\n"
          ]
        }
      ],
      "source": [
        "def factorial(n):\n",
        "  result = 1\n",
        "  for i in range(1, n+1):\n",
        "    result *= i\n",
        "  return result\n",
        "\n",
        "\n",
        "print(factorial(5)) # Output: 120"
      ]
    },
    {
      "cell_type": "markdown",
      "source": [
        "### Problem 2\n",
        "\n",
        "Write a function that takes two lists and returns True if they have at least one common member."
      ],
      "metadata": {
        "id": "spJUDfWxg-hW"
      }
    },
    {
      "cell_type": "code",
      "source": [
        "def common_member(a, b):\n",
        "    for item in a:\n",
        "        if item in b:\n",
        "            return True\n",
        "    return False\n",
        "\n",
        "\n",
        "a = [1, 2, 3, 4, 5]\n",
        "b = [5, 6, 7, 8, 9]\n",
        "print(common_member(a, b)) # Output: True\n"
      ],
      "metadata": {
        "id": "LAXo2s6Wg90g",
        "outputId": "f51597f4-cea6-40d2-fc3e-4fd4280cd1a9",
        "colab": {
          "base_uri": "https://localhost:8080/"
        }
      },
      "execution_count": 2,
      "outputs": [
        {
          "output_type": "stream",
          "name": "stdout",
          "text": [
            "True\n"
          ]
        }
      ]
    },
    {
      "cell_type": "markdown",
      "source": [
        "### Problem 3\n",
        "\n",
        "Write a function that takes a string and returns the first non-repeated character in the string."
      ],
      "metadata": {
        "id": "L9eJRt8Gg-26"
      }
    },
    {
      "cell_type": "code",
      "source": [
        "def first_non_repeated_character(string):\n",
        "    char_count = {}\n",
        "    for char in string:\n",
        "        if char in char_count:\n",
        "            char_count[char] += 1\n",
        "        else:\n",
        "            char_count[char] = 1\n",
        "    for char in string:\n",
        "        if char_count[char] == 1:\n",
        "            return char\n",
        "    return None\n",
        "\n",
        "\n",
        "\n",
        "string = 'abcdefghijklmnopqrstuvwxyzbcdefghijklmnopqrstuvwxyz'\n",
        "print(first_non_repeated_character(string)) # Output: 'a'\n"
      ],
      "metadata": {
        "colab": {
          "base_uri": "https://localhost:8080/"
        },
        "id": "GwPmCaCpg9x3",
        "outputId": "dda907ee-0e4c-4f9a-aecb-925f48e4a921"
      },
      "execution_count": 7,
      "outputs": [
        {
          "output_type": "stream",
          "name": "stdout",
          "text": [
            "a\n"
          ]
        }
      ]
    },
    {
      "cell_type": "markdown",
      "source": [
        "### Problem 4\n",
        "\n",
        "Write a Python function that takes two strings and returns True if the first string is a substring of the second string, and False otherwise."
      ],
      "metadata": {
        "id": "3nXYZ-PFj-GE"
      }
    },
    {
      "cell_type": "code",
      "source": [
        "def is_substring(s1, s2):\n",
        "    if s1 in s2:\n",
        "        return True\n",
        "    else:\n",
        "        return False\n",
        "\n",
        "\n",
        "print(is_substring(\"hello\", \"hello world\"))"
      ],
      "metadata": {
        "id": "tiaxoj4sg9sa",
        "outputId": "dd32842f-6061-4f91-c3d1-267f798509c4",
        "colab": {
          "base_uri": "https://localhost:8080/"
        }
      },
      "execution_count": 8,
      "outputs": [
        {
          "output_type": "stream",
          "name": "stdout",
          "text": [
            "True\n"
          ]
        }
      ]
    },
    {
      "cell_type": "markdown",
      "source": [
        "### Problem 5\n",
        "\n",
        "Write a Python program to find the sum of the digits of a number."
      ],
      "metadata": {
        "id": "mzXxJiPdl6La"
      }
    },
    {
      "cell_type": "code",
      "source": [
        "def sum_of_digits(number):\n",
        "    total = 0\n",
        "    while number > 0:\n",
        "        digit = number % 10\n",
        "        total += digit\n",
        "        number //= 10\n",
        "    return total\n",
        "\n",
        "print(sum_of_digits(123))"
      ],
      "metadata": {
        "id": "_pdbo5U5g9py",
        "outputId": "dac12ddc-8dcf-4d3a-cb7e-5005e8ae1c37",
        "colab": {
          "base_uri": "https://localhost:8080/"
        }
      },
      "execution_count": 10,
      "outputs": [
        {
          "output_type": "stream",
          "name": "stdout",
          "text": [
            "6\n"
          ]
        }
      ]
    },
    {
      "cell_type": "markdown",
      "source": [
        "### Problem 6\n",
        "\n",
        "Write a Python program to find the longest word in a list of words."
      ],
      "metadata": {
        "id": "JEYg2AUMmGIL"
      }
    },
    {
      "cell_type": "code",
      "source": [
        "def find_longest_word(words):\n",
        "    longest_word = \"\"\n",
        "    for word in words:\n",
        "        if len(word) > len(longest_word):\n",
        "            longest_word = word\n",
        "    return longest_word\n",
        "\n",
        "print(find_longest_word([\"apple\", \"banana\", \"cherry\"]))"
      ],
      "metadata": {
        "id": "CMR7pJstg9m-",
        "outputId": "bce432f4-77ce-490f-c302-9e194b19ba4b",
        "colab": {
          "base_uri": "https://localhost:8080/"
        }
      },
      "execution_count": 11,
      "outputs": [
        {
          "output_type": "stream",
          "name": "stdout",
          "text": [
            "banana\n"
          ]
        }
      ]
    },
    {
      "cell_type": "markdown",
      "source": [
        "### Problem 7\n",
        "\n",
        "Write a Python program to sort a list of dictionaries by a given key."
      ],
      "metadata": {
        "id": "5EJP_HkfmpdA"
      }
    },
    {
      "cell_type": "code",
      "source": [
        "def sort_dict_list(dict_list, key):\n",
        "    return sorted(dict_list, key=lambda x: x[key])\n",
        "\n",
        "\n",
        "dict_list = [{\"name\": \"John\", \"age\": 25}, {\"name\": \"Jane\", \"age\": 22}, {\"name\": \"Jim\", \"age\": 30}]\n",
        "print(sort_dict_list(dict_list, \"age\"))"
      ],
      "metadata": {
        "id": "x6ymqtCYmh2q",
        "outputId": "f070d045-9144-41f1-f46b-e4c1a9cb13d2",
        "colab": {
          "base_uri": "https://localhost:8080/"
        }
      },
      "execution_count": 12,
      "outputs": [
        {
          "output_type": "stream",
          "name": "stdout",
          "text": [
            "[{'name': 'Jane', 'age': 22}, {'name': 'John', 'age': 25}, {'name': 'Jim', 'age': 30}]\n"
          ]
        }
      ]
    },
    {
      "cell_type": "markdown",
      "source": [
        "### Problem 8\n",
        "\n",
        "Write a Python program to find the frequency of each word in a string."
      ],
      "metadata": {
        "id": "QPyB2QXGmv_M"
      }
    },
    {
      "cell_type": "code",
      "source": [
        "def word_frequency(string):\n",
        "    words = string.split()\n",
        "    frequency = {}\n",
        "    for word in words:\n",
        "        if word in frequency:\n",
        "            frequency[word] += 1\n",
        "        else:\n",
        "            frequency[word] = 1\n",
        "    return frequency\n",
        "\n",
        "\n",
        "\n",
        "string = \"the quick brown fox jumps over the lazy dog\"\n",
        "print(word_frequency(string))"
      ],
      "metadata": {
        "colab": {
          "base_uri": "https://localhost:8080/"
        },
        "id": "VEuDauyzmwjU",
        "outputId": "0837cbbe-50dc-4bca-c809-b31756f36587"
      },
      "execution_count": 14,
      "outputs": [
        {
          "output_type": "stream",
          "name": "stdout",
          "text": [
            "{'the': 2, 'quick': 1, 'brown': 1, 'fox': 1, 'jumps': 1, 'over': 1, 'lazy': 1, 'dog': 1}\n"
          ]
        }
      ]
    },
    {
      "cell_type": "markdown",
      "source": [
        "### Problem 9\n",
        "\n",
        "Write a Python program to find the prime numbers in a given range."
      ],
      "metadata": {
        "id": "sc_U5CjanMMW"
      }
    },
    {
      "cell_type": "code",
      "source": [
        "def prime_numbers(start, end):\n",
        "    primes = []\n",
        "    for num in range(start, end + 1):\n",
        "        if num > 1:\n",
        "            for i in range(2, num):\n",
        "                if (num % i) == 0:\n",
        "                    break\n",
        "            else:\n",
        "                primes.append(num)\n",
        "\n",
        "    return primes\n",
        "print(prime_numbers(2, 20))\n"
      ],
      "metadata": {
        "id": "nvmeIsL0mzsA",
        "outputId": "24477293-2272-4d50-dbf2-9532ead16bbf",
        "colab": {
          "base_uri": "https://localhost:8080/"
        }
      },
      "execution_count": 17,
      "outputs": [
        {
          "output_type": "stream",
          "name": "stdout",
          "text": [
            "[2, 3, 5, 7, 11, 13, 17, 19]\n"
          ]
        }
      ]
    },
    {
      "cell_type": "markdown",
      "source": [
        "### Problem 10\n",
        "\n",
        "Write a Python program to find the longest word in a given sentence."
      ],
      "metadata": {
        "id": "k5IJhfUfnv1k"
      }
    },
    {
      "cell_type": "code",
      "source": [
        "def longest_word(sentence):\n",
        "    words = sentence.split()\n",
        "    longest = \"\"\n",
        "    for word in words:\n",
        "        if len(word) > len(longest):\n",
        "            longest = word\n",
        "\n",
        "\n",
        "    return longest\n",
        "\n",
        "sentence = \"The quick brown fox jumps over the lazy dog\"\n",
        "print(longest_word(sentence))"
      ],
      "metadata": {
        "id": "8akmyxf0nwhV",
        "outputId": "476244e5-01d0-4cb8-e71a-35cbecd320e8",
        "colab": {
          "base_uri": "https://localhost:8080/"
        }
      },
      "execution_count": 19,
      "outputs": [
        {
          "output_type": "stream",
          "name": "stdout",
          "text": [
            "quick\n"
          ]
        }
      ]
    },
    {
      "cell_type": "markdown",
      "source": [
        "### Problem 11\n",
        "\n",
        "Write a Python program to calculate the moving average of a list of numbers."
      ],
      "metadata": {
        "id": "G3dDDNtNn9EL"
      }
    },
    {
      "cell_type": "code",
      "source": [
        "def moving_average(numbers, window_size):\n",
        "    moving_avg = []\n",
        "    for i in range(len(numbers) - window_size + 1):\n",
        "        window = numbers[i:i + window_size]\n",
        "        avg = sum(window) / window_size\n",
        "        moving_avg.append(avg)\n",
        "\n",
        "    return moving_avg\n",
        "\n",
        "numbers = [1, 2, 3, 4, 5, 6, 7, 8, 9, 10]\n",
        "print(moving_average(numbers, 3))"
      ],
      "metadata": {
        "id": "vXHN4TPjn8vi",
        "outputId": "d41f2f36-7384-4b7f-a440-2ca9fdeb27f1",
        "colab": {
          "base_uri": "https://localhost:8080/"
        }
      },
      "execution_count": 22,
      "outputs": [
        {
          "output_type": "stream",
          "name": "stdout",
          "text": [
            "[2.0, 3.0, 4.0, 5.0, 6.0, 7.0, 8.0, 9.0]\n"
          ]
        }
      ]
    },
    {
      "cell_type": "markdown",
      "source": [
        "### Problem 12\n",
        "\n",
        "Write a Python program to find all the pairs of two integers in a given list whose sum is equal to a given target number."
      ],
      "metadata": {
        "id": "vTyoZFf_n9e_"
      }
    },
    {
      "cell_type": "code",
      "source": [
        "def find_pairs(numbers, target):\n",
        "    pairs = []\n",
        "    for i in range(len(numbers)):\n",
        "        for j in range(i + 1, len(numbers)):\n",
        "            if numbers[i] + numbers[j] == target:\n",
        "                pairs.append((numbers[i], numbers[j]))\n",
        "\n",
        "    return pairs\n",
        "\n",
        "numbers = [1, 2, 3, 4, 5, 6, 7, 8, 9, 10]\n",
        "print(find_pairs(numbers, 10))"
      ],
      "metadata": {
        "id": "BGUUC-4pn8s_",
        "outputId": "95007261-0f71-4c78-aa74-a250e4b9e897",
        "colab": {
          "base_uri": "https://localhost:8080/"
        }
      },
      "execution_count": 23,
      "outputs": [
        {
          "output_type": "stream",
          "name": "stdout",
          "text": [
            "[(1, 9), (2, 8), (3, 7), (4, 6)]\n"
          ]
        }
      ]
    }
  ]
}