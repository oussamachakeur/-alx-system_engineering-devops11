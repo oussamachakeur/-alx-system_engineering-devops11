{
  "nbformat": 4,
  "nbformat_minor": 0,
  "metadata": {
    "colab": {
      "provenance": [],
      "include_colab_link": true
    },
    "kernelspec": {
      "name": "python3",
      "display_name": "Python 3"
    },
    "language_info": {
      "name": "python"
    }
  },
  "cells": [
    {
      "cell_type": "markdown",
      "metadata": {
        "id": "view-in-github",
        "colab_type": "text"
      },
      "source": [
        "<a href=\"https://colab.research.google.com/github/oussamachakeur/-alx-system_engineering-devops11/blob/main/Exercise_3_OOP_problems_1.ipynb\" target=\"_parent\"><img src=\"https://colab.research.google.com/assets/colab-badge.svg\" alt=\"Open In Colab\"/></a>"
      ]
    },
    {
      "cell_type": "markdown",
      "source": [
        "### Probelm 1\n",
        "\n",
        "Create a class Rectangle that represents a rectangle. The class should have properties width and height, and a method area that returns the area of the rectangle."
      ],
      "metadata": {
        "id": "nfkCD3f7RdAE"
      }
    },
    {
      "cell_type": "code",
      "source": [
        "class Rectangle:\n",
        "    def __init__(self, width, height):\n",
        "        self.width = width\n",
        "        self.height = height\n",
        "\n",
        "    def area(self):\n",
        "        return self.width * self.height\n",
        "rect = Rectangle(5, 10)\n",
        "print(\"Width:\", rect.width)\n",
        "print(\"Height:\", rect.height)\n",
        "print(\"Area:\", rect.area())"
      ],
      "metadata": {
        "id": "IXIGrZaxh34U",
        "outputId": "d2b96195-615e-4e36-d6c5-3e1029113c9c",
        "colab": {
          "base_uri": "https://localhost:8080/"
        }
      },
      "execution_count": 1,
      "outputs": [
        {
          "output_type": "stream",
          "name": "stdout",
          "text": [
            "Width: 5\n",
            "Height: 10\n",
            "Area: 50\n"
          ]
        }
      ]
    },
    {
      "cell_type": "markdown",
      "source": [
        "### Probelm 2\n",
        "\n",
        "Create a class Circle with a property radius and a method area that returns the area of the circle."
      ],
      "metadata": {
        "id": "UsbxN38UQsFR"
      }
    },
    {
      "cell_type": "code",
      "source": [
        "import math\n",
        "\n",
        "class Circle:\n",
        "    def __init__(self, radius):\n",
        "        self.radius = radius\n",
        "\n",
        "    def area(self):\n",
        "        return math.pi * self.radius ** 2\n",
        "\n",
        "c = Circle(5)\n",
        "print(\"Radius:\", c.radius)\n",
        "print(\"Area:\", c.area())\n"
      ],
      "metadata": {
        "id": "6RIQyHJmh3jf",
        "outputId": "8fc7947f-d9c7-4e4d-bfd9-729a354f0ad0",
        "colab": {
          "base_uri": "https://localhost:8080/"
        }
      },
      "execution_count": 2,
      "outputs": [
        {
          "output_type": "stream",
          "name": "stdout",
          "text": [
            "Radius: 5\n",
            "Area: 78.53981633974483\n"
          ]
        }
      ]
    },
    {
      "cell_type": "markdown",
      "source": [
        "### Probelm 3\n",
        "\n",
        "Create a class Account that represents a bank account. The class should have a method deposit that allows you to deposit money into the account, and a method withdraw that allows you to withdraw money from the account. The class should also have a property balance that represents the current balance of the account."
      ],
      "metadata": {
        "id": "1YPTQk3DRVyH"
      }
    },
    {
      "cell_type": "code",
      "source": [
        "class Account:\n",
        "    def __init__(self, balance=0):\n",
        "        self.balance = balance\n",
        "\n",
        "    def deposit(self, amount):\n",
        "        self.balance += amount\n",
        "\n",
        "    def withdraw(self, amount):\n",
        "        if amount <= self.balance:\n",
        "            self.balance -= amount\n",
        "        else:\n",
        "            print(\"Insufficient funds\")\n",
        "\n",
        "acc = Account()\n",
        "acc.deposit(100)\n",
        "print(\"Balance:\", acc.balance)\n",
        "acc.withdraw(30)\n",
        "print(\"Balance:\", acc.balance)\n",
        "acc.withdraw(100)\n"
      ],
      "metadata": {
        "id": "zPez8e19h3FB",
        "outputId": "4ebcbbff-e1f6-400c-8fbd-2088e3918a33",
        "colab": {
          "base_uri": "https://localhost:8080/"
        }
      },
      "execution_count": 3,
      "outputs": [
        {
          "output_type": "stream",
          "name": "stdout",
          "text": [
            "Balance: 100\n",
            "Balance: 70\n",
            "Insufficient funds\n"
          ]
        }
      ]
    },
    {
      "cell_type": "markdown",
      "source": [
        "### Probelm 4\n",
        "\n",
        "Create a class Book with properties title, author, and pages and a method info that returns a string with information about the book."
      ],
      "metadata": {
        "id": "HLM4zYQkSulm"
      }
    },
    {
      "cell_type": "code",
      "source": [
        "class Book:\n",
        "    def __init__(self, title, author, pages):\n",
        "        self.title = title\n",
        "        self.author = author\n",
        "        self.pages = pages\n",
        "\n",
        "    def info(self):\n",
        "        return f\"'{self.title}' by {self.author}, {self.pages} pages\"\n",
        "\n",
        "\n",
        "book = Book(\"1984\", \"George Orwell\", 328)\n",
        "print(book.info())\n"
      ],
      "metadata": {
        "id": "yYVVyC5lh2uY",
        "outputId": "776ce3de-a81a-41ad-c658-bf77311652ad",
        "colab": {
          "base_uri": "https://localhost:8080/"
        }
      },
      "execution_count": 4,
      "outputs": [
        {
          "output_type": "stream",
          "name": "stdout",
          "text": [
            "'1984' by George Orwell, 328 pages\n"
          ]
        }
      ]
    },
    {
      "cell_type": "markdown",
      "source": [
        "### Probelm 5\n",
        "\n",
        "Create a class Movie with properties title, director, and year and a method play that prints \"Playing the movie [title]...\"."
      ],
      "metadata": {
        "id": "-vF4UcSrS12M"
      }
    },
    {
      "cell_type": "code",
      "execution_count": 5,
      "metadata": {
        "id": "3j7xhckmhoYN",
        "outputId": "6240ddcc-b742-4172-a414-f903be9ca0c6",
        "colab": {
          "base_uri": "https://localhost:8080/"
        }
      },
      "outputs": [
        {
          "output_type": "stream",
          "name": "stdout",
          "text": [
            "Playing the movie Inception...\n"
          ]
        }
      ],
      "source": [
        "class Movie:\n",
        "    def __init__(self, title, director, year):\n",
        "        self.title = title\n",
        "        self.director = director\n",
        "        self.year = year\n",
        "\n",
        "    def play(self):\n",
        "        print(f\"Playing the movie {self.title}...\")\n",
        "\n",
        "\n",
        "m = Movie(\"Inception\", \"Christopher Nolan\", 2010)\n",
        "m.play()\n"
      ]
    }
  ]
}