{
  "nbformat": 4,
  "nbformat_minor": 0,
  "metadata": {
    "colab": {
      "provenance": [],
      "include_colab_link": true
    },
    "kernelspec": {
      "name": "python3",
      "display_name": "Python 3"
    },
    "language_info": {
      "name": "python"
    }
  },
  "cells": [
    {
      "cell_type": "markdown",
      "metadata": {
        "id": "view-in-github",
        "colab_type": "text"
      },
      "source": [
        "<a href=\"https://colab.research.google.com/github/oussamachakeur/-alx-system_engineering-devops11/blob/main/Exercise_4_OOP_problems_2.ipynb\" target=\"_parent\"><img src=\"https://colab.research.google.com/assets/colab-badge.svg\" alt=\"Open In Colab\"/></a>"
      ]
    },
    {
      "cell_type": "markdown",
      "source": [
        "## Operator overloading\n",
        "### Problem 1\n",
        "Implement a complex number class. Overload the addition and subtraction operators to add and subtract two complex numbers."
      ],
      "metadata": {
        "id": "tDUtUIWQT5ef"
      }
    },
    {
      "cell_type": "code",
      "source": [
        "class Complex:\n",
        "    def __init__(self, real, imag):\n",
        "        self.real = real\n",
        "        self.imag = imag\n",
        "\n",
        "    def __add__(self, other):\n",
        "        return Complex(self.real + other.real, self.imag + other.imag)\n",
        "\n",
        "    def __sub__(self, other):\n",
        "        return Complex(self.real - other.real, self.imag - other.imag)\n",
        "\n",
        "    def __str__(self):\n",
        "        return f\"{self.real} + {self.imag}i\"\n",
        "\n",
        "\n",
        "# Test\n",
        "c1 = Complex(3, 4)\n",
        "c2 = Complex(1, 2)\n",
        "print(c1 + c2)  # 4 + 6i\n",
        "print(c1 - c2)  # 2 + 2i\n"
      ],
      "metadata": {
        "id": "Iqov1SrUz2ff"
      },
      "execution_count": null,
      "outputs": []
    },
    {
      "cell_type": "markdown",
      "source": [
        "## Operator overloading\n",
        "### Problem 1\n",
        "Implement a complex number class. Overload the addition and subtraction operators to add and subtract two complex numbers."
      ],
      "metadata": {
        "id": "oCthgwA2stt-"
      }
    },
    {
      "cell_type": "code",
      "source": [
        "class Complex:\n",
        "    def __init__(self, real, imag):\n",
        "        self.real = real\n",
        "        self.imag = imag\n",
        "\n",
        "    def __add__(self, other):\n",
        "        return Complex(self.real + other.real, self.imag + other.imag)\n",
        "\n",
        "    def __sub__(self, other):\n",
        "        return Complex(self.real - other.real, self.imag - other.imag)\n",
        "\n",
        "    def __str__(self):\n",
        "        return f\"{self.real} + {self.imag}i\"\n",
        "\n",
        "\n",
        "# Test\n",
        "c1 = Complex(3, 4)\n",
        "c2 = Complex(1, 2)\n",
        "print(c1 + c2)  # 4 + 6i\n",
        "print(c1 - c2)  # 2 + 2i\n"
      ],
      "metadata": {
        "id": "bXo5lYb7z_cq"
      },
      "execution_count": null,
      "outputs": []
    },
    {
      "cell_type": "markdown",
      "source": [
        "### Problem 2\n",
        "\n",
        "Create a class Person with name, age and gender as its attributes. Overload the > operator to compare two persons based on their age, such that p1 > p2 returns True if the age of p1 is greater than p2 and False otherwise."
      ],
      "metadata": {
        "id": "by9-uYLQstuE"
      }
    },
    {
      "cell_type": "code",
      "source": [
        "class Person:\n",
        "    def __init__(self, name, age, gender):\n",
        "        self.name = name\n",
        "        self.age = age\n",
        "        self.gender = gender\n",
        "\n",
        "    def __gt__(self, other):\n",
        "        return self.age > other.age\n",
        "\n",
        "\n",
        "# Test\n",
        "p1 = Person(\"Ali\", 30, \"M\")\n",
        "p2 = Person(\"Sara\", 25, \"F\")\n",
        "print(p1 > p2)  # True\n"
      ],
      "metadata": {
        "id": "812H0IrY0Cs0"
      },
      "execution_count": null,
      "outputs": []
    },
    {
      "cell_type": "markdown",
      "source": [
        "### Problem 4\n",
        "Create a class Vector that represents a vector in space, with x, y, and z as its attributes. Overload the * operator to return the dot product of two vectors, such that vector1 * vector2 returns the dot product of the two input vectors.\n"
      ],
      "metadata": {
        "id": "iJje6xpDstuF"
      }
    },
    {
      "cell_type": "code",
      "source": [
        "class Vector:\n",
        "    def __init__(self, x, y, z):\n",
        "        self.x, self.y, self.z = x, y, z\n",
        "\n",
        "    def __mul__(self, other):\n",
        "        return self.x*other.x + self.y*other.y + self.z*other.z\n",
        "\n",
        "\n",
        "# Test\n",
        "v1 = Vector(1, 2, 3)\n",
        "v2 = Vector(4, 5, 6)\n",
        "print(v1 * v2)  # 32\n"
      ],
      "metadata": {
        "id": "9eEfvVMS0HdU"
      },
      "execution_count": null,
      "outputs": []
    },
    {
      "cell_type": "markdown",
      "source": [
        "### Problem 5\n",
        "\n",
        "Overloading comparison operator for two circles (<, >, ==, !=, >=, <=)"
      ],
      "metadata": {
        "id": "nvvG2gE1stuF"
      }
    },
    {
      "cell_type": "code",
      "source": [
        "class Circle:\n",
        "    def __init__(self, radius):\n",
        "        self.radius = radius\n",
        "\n",
        "    def __lt__(self, other):\n",
        "        return self.radius < other.radius\n",
        "\n",
        "    def __le__(self, other):\n",
        "        return self.radius <= other.radius\n",
        "\n",
        "    def __eq__(self, other):\n",
        "        return self.radius == other.radius\n",
        "\n",
        "    def __ne__(self, other):\n",
        "        return self.radius != other.radius\n",
        "\n",
        "    def __gt__(self, other):\n",
        "        return self.radius > other.radius\n",
        "\n",
        "    def __ge__(self, other):\n",
        "        return self.radius >= other.radius\n",
        "\n",
        "\n",
        "# Test\n",
        "c1, c2 = Circle(5), Circle(7)\n",
        "print(c1 < c2)   # True\n",
        "print(c1 == c2)  # False\n"
      ],
      "metadata": {
        "id": "uEpV_tmD0JaM"
      },
      "execution_count": null,
      "outputs": []
    },
    {
      "cell_type": "markdown",
      "source": [
        "### Problem 6\n",
        "\n",
        "Implement a 2D point class. Overload the comparison operators to compare two points based on their Euclidean distance from the origin. Euclidean distance = sqrt(x^2 + y^2)"
      ],
      "metadata": {
        "id": "0IvpJDcsstuF"
      }
    },
    {
      "cell_type": "code",
      "source": [
        "import math\n",
        "\n",
        "class Point:\n",
        "    def __init__(self, x, y):\n",
        "        self.x, self.y = x, y\n",
        "\n",
        "    def distance(self):\n",
        "        return math.sqrt(self.x**2 + self.y**2)\n",
        "\n",
        "    def __lt__(self, other):\n",
        "        return self.distance() < other.distance()\n",
        "\n",
        "    def __eq__(self, other):\n",
        "        return self.distance() == other.distance()\n",
        "\n",
        "    def __gt__(self, other):\n",
        "        return self.distance() > other.distance()\n",
        "\n",
        "\n",
        "# Test\n",
        "p1, p2 = Point(3, 4), Point(6, 8)\n",
        "print(p1 < p2)  # True\n"
      ],
      "metadata": {
        "id": "druEasuQ0LmZ"
      },
      "execution_count": null,
      "outputs": []
    },
    {
      "cell_type": "markdown",
      "source": [
        "### Problem 7\n",
        "Overloading multiplication operator for two matrices"
      ],
      "metadata": {
        "id": "xD4stjpkstuF"
      }
    },
    {
      "cell_type": "code",
      "source": [
        "class Matrix:\n",
        "    def __init__(self, data):\n",
        "        self.data = data\n",
        "        self.rows = len(data)\n",
        "        self.cols = len(data[0])\n",
        "\n",
        "    def __mul__(self, other):\n",
        "        result = [[0]*other.cols for _ in range(self.rows)]\n",
        "        for i in range(self.rows):\n",
        "            for j in range(other.cols):\n",
        "                for k in range(self.cols):\n",
        "                    result[i][j] += self.data[i][k] * other.data[k][j]\n",
        "        return Matrix(result)\n",
        "\n",
        "    def __str__(self):\n",
        "        return \"\\n\".join(str(row) for row in self.data)\n",
        "\n",
        "\n",
        "# Test\n",
        "m1 = Matrix([[1, 2], [3, 4]])\n",
        "m2 = Matrix([[5, 6], [7, 8]])\n",
        "print(m1 * m2)\n"
      ],
      "metadata": {
        "id": "iE9zlfFF0OFg"
      },
      "execution_count": null,
      "outputs": []
    },
    {
      "cell_type": "markdown",
      "source": [
        "## Inheritance"
      ],
      "metadata": {
        "id": "zsAGP1SlstuF"
      }
    },
    {
      "cell_type": "markdown",
      "source": [
        "### Problem 1\n",
        "Create a class Vehicle that has a method drive that returns the string \"Driving a vehicle\". Create two subclasses, Car and Bicycle, that override this method to return \"Driving a car\" and \"Riding a bicycle\", respectively."
      ],
      "metadata": {
        "id": "cMw90AS6stuF"
      }
    },
    {
      "cell_type": "code",
      "source": [
        "class Vehicle:\n",
        "    def drive(self):\n",
        "        return \"Driving a vehicle\"\n",
        "\n",
        "class Car(Vehicle):\n",
        "    def drive(self):\n",
        "        return \"Driving a car\"\n",
        "\n",
        "class Bicycle(Vehicle):\n",
        "    def drive(self):\n",
        "        return \"Riding a bicycle\"\n",
        "\n",
        "\n",
        "# Test\n",
        "print(Car().drive())\n",
        "print(Bicycle().drive())\n"
      ],
      "metadata": {
        "id": "nHolarbc0Qp_"
      },
      "execution_count": null,
      "outputs": []
    },
    {
      "cell_type": "markdown",
      "source": [
        "### Problem 2\n",
        "- Create a Class Person with attributes : name, age, address and method : introduce\n",
        "\n",
        "- Create a subclass Student of the class Person  that has an attribute : field_of_study a personalized method : introduce\n",
        "\n",
        "- Create another subclass Employee of the class Person that has an attribute : company a personalized method : introduce\n",
        "\n",
        "- Test your classes"
      ],
      "metadata": {
        "id": "ceEExTk3stuF"
      }
    },
    {
      "cell_type": "code",
      "source": [
        "class Person:\n",
        "    def __init__(self, name, age, address):\n",
        "        self.name, self.age, self.address = name, age, address\n",
        "\n",
        "    def introduce(self):\n",
        "        return f\"My name is {self.name}, I am {self.age} years old, from {self.address}.\"\n",
        "\n",
        "class Student(Person):\n",
        "    def __init__(self, name, age, address, field_of_study):\n",
        "        super().__init__(name, age, address)\n",
        "        self.field_of_study = field_of_study\n",
        "\n",
        "    def introduce(self):\n",
        "        return f\"I am {self.name}, a {self.field_of_study} student.\"\n",
        "\n",
        "class Employee(Person):\n",
        "    def __init__(self, name, age, address, company):\n",
        "        super().__init__(name, age, address)\n",
        "        self.company = company\n",
        "\n",
        "    def introduce(self):\n",
        "        return f\"I am {self.name}, working at {self.company}.\"\n",
        "\n",
        "\n",
        "# Test\n",
        "print(Student(\"Ali\", 20, \"KL\", \"CS\").introduce())\n",
        "print(Employee(\"Sara\", 28, \"Penang\", \"Intel\").introduce())\n"
      ],
      "metadata": {
        "id": "g5acqO2_0TDX"
      },
      "execution_count": null,
      "outputs": []
    },
    {
      "cell_type": "markdown",
      "source": [
        "### Problem 3\n",
        "\n",
        "- Define two classes, BankAccount and SavingsAccount. The BankAccount class is a basic class for a bank account, it has a attributes : account number and balance, and two methods deposit and withdraw.  The SavingsAccount class inherits from the BankAccount class and adds a new attribute interest_rate and a new method add_interest. The add_interest method calculates the interest based on the balance and interest rate, and then calls the deposit method of the parent class to add the interest to the balance.\n",
        "\n",
        "- Add a method to the SavingsAccount class called check_balance that returns the current balance of the account.\n",
        "\n",
        "- Add a method to the BankAccount class called transfer that allows you to transfer a certain amount from one account to another. The method should take two arguments, the destination_account and the amount. The method should return False if the account does not have enough balance to complete the transfer, and True otherwise.\n",
        "\n",
        "- Create two objects of the SavingsAccount class and transfer money from one account to another using the transfer method."
      ],
      "metadata": {
        "id": "R4T24R_1stuF"
      }
    },
    {
      "cell_type": "code",
      "source": [
        "class BankAccount:\n",
        "    def __init__(self, account_number, balance=0):\n",
        "        self.account_number = account_number\n",
        "        self.balance = balance\n",
        "\n",
        "    def deposit(self, amount):\n",
        "        self.balance += amount\n",
        "\n",
        "    def withdraw(self, amount):\n",
        "        if self.balance >= amount:\n",
        "            self.balance -= amount\n",
        "            return True\n",
        "        return False\n",
        "\n",
        "    def transfer(self, destination_account, amount):\n",
        "        if self.withdraw(amount):\n",
        "            destination_account.deposit(amount)\n",
        "            return True\n",
        "        return False\n",
        "\n",
        "\n",
        "class SavingsAccount(BankAccount):\n",
        "    def __init__(self, account_number, balance=0, interest_rate=0.02):\n",
        "        super().__init__(account_number, balance)\n",
        "        self.interest_rate = interest_rate\n",
        "\n",
        "    def add_interest(self):\n",
        "        interest = self.balance * self.interest_rate\n",
        "        self.deposit(interest)\n",
        "\n",
        "    def check_balance(self):\n",
        "        return self.balance\n",
        "\n",
        "\n",
        "# Test\n",
        "acc1 = SavingsAccount(101, 1000, 0.05)\n",
        "acc2 = SavingsAccount(102, 500, 0.03)\n",
        "\n",
        "acc1.transfer(acc2, 300)\n",
        "print(acc1.check_balance())  # 700\n",
        "print(acc2.check_balance())  # 800\n"
      ],
      "metadata": {
        "id": "5SBhHMgl0VrL"
      },
      "execution_count": null,
      "outputs": []
    },
    {
      "cell_type": "markdown",
      "source": [
        "## Operator overloading\n",
        "### Problem 1\n",
        "Implement a complex number class. Overload the addition and subtraction operators to add and subtract two complex numbers."
      ],
      "metadata": {
        "id": "J11W-P7Gsvum"
      }
    },
    {
      "cell_type": "markdown",
      "source": [
        "### Problem 2\n",
        "\n",
        "Create a class Person with name, age and gender as its attributes. Overload the > operator to compare two persons based on their age, such that p1 > p2 returns True if the age of p1 is greater than p2 and False otherwise."
      ],
      "metadata": {
        "id": "iDRFhMbIsvun"
      }
    },
    {
      "cell_type": "markdown",
      "source": [
        "### Problem 4\n",
        "Create a class Vector that represents a vector in space, with x, y, and z as its attributes. Overload the * operator to return the dot product of two vectors, such that vector1 * vector2 returns the dot product of the two input vectors.\n"
      ],
      "metadata": {
        "id": "ulrS8j00svun"
      }
    },
    {
      "cell_type": "markdown",
      "source": [
        "### Problem 5\n",
        "\n",
        "Overloading comparison operator for two circles (<, >, ==, !=, >=, <=)"
      ],
      "metadata": {
        "id": "MFwV4ZFLsvun"
      }
    },
    {
      "cell_type": "markdown",
      "source": [
        "### Problem 6\n",
        "\n",
        "Implement a 2D point class. Overload the comparison operators to compare two points based on their Euclidean distance from the origin. Euclidean distance = sqrt(x^2 + y^2)"
      ],
      "metadata": {
        "id": "xDvf0tabsvuo"
      }
    },
    {
      "cell_type": "markdown",
      "source": [
        "### Problem 7\n",
        "Overloading multiplication operator for two matrices"
      ],
      "metadata": {
        "id": "x00rdk1Lsvuo"
      }
    },
    {
      "cell_type": "markdown",
      "source": [
        "## Inheritance"
      ],
      "metadata": {
        "id": "hftb3N9Dsvuo"
      }
    },
    {
      "cell_type": "markdown",
      "source": [
        "### Problem 1\n",
        "Create a class Vehicle that has a method drive that returns the string \"Driving a vehicle\". Create two subclasses, Car and Bicycle, that override this method to return \"Driving a car\" and \"Riding a bicycle\", respectively."
      ],
      "metadata": {
        "id": "5n9aFqfSsvup"
      }
    },
    {
      "cell_type": "markdown",
      "source": [
        "### Problem 2\n",
        "- Create a Class Person with attributes : name, age, address and method : introduce\n",
        "\n",
        "- Create a subclass Student of the class Person  that has an attribute : field_of_study a personalized method : introduce\n",
        "\n",
        "- Create another subclass Employee of the class Person that has an attribute : company a personalized method : introduce\n",
        "\n",
        "- Test your classes"
      ],
      "metadata": {
        "id": "iW8OPHiUsvup"
      }
    },
    {
      "cell_type": "markdown",
      "source": [
        "### Problem 3\n",
        "\n",
        "- Define two classes, BankAccount and SavingsAccount. The BankAccount class is a basic class for a bank account, it has a attributes : account number and balance, and two methods deposit and withdraw.  The SavingsAccount class inherits from the BankAccount class and adds a new attribute interest_rate and a new method add_interest. The add_interest method calculates the interest based on the balance and interest rate, and then calls the deposit method of the parent class to add the interest to the balance.\n",
        "\n",
        "- Add a method to the SavingsAccount class called check_balance that returns the current balance of the account.\n",
        "\n",
        "- Add a method to the BankAccount class called transfer that allows you to transfer a certain amount from one account to another. The method should take two arguments, the destination_account and the amount. The method should return False if the account does not have enough balance to complete the transfer, and True otherwise.\n",
        "\n",
        "- Create two objects of the SavingsAccount class and transfer money from one account to another using the transfer method."
      ],
      "metadata": {
        "id": "7SARoJb0svup"
      }
    },
    {
      "cell_type": "markdown",
      "source": [
        "## Operator overloading\n",
        "### Problem 1\n",
        "Implement a complex number class. Overload the addition and subtraction operators to add and subtract two complex numbers."
      ],
      "metadata": {
        "id": "e4gQZ1hGszeR"
      }
    },
    {
      "cell_type": "markdown",
      "source": [
        "### Problem 2\n",
        "\n",
        "Create a class Person with name, age and gender as its attributes. Overload the > operator to compare two persons based on their age, such that p1 > p2 returns True if the age of p1 is greater than p2 and False otherwise."
      ],
      "metadata": {
        "id": "0i_pDMo2szeS"
      }
    },
    {
      "cell_type": "markdown",
      "source": [
        "### Problem 4\n",
        "Create a class Vector that represents a vector in space, with x, y, and z as its attributes. Overload the * operator to return the dot product of two vectors, such that vector1 * vector2 returns the dot product of the two input vectors.\n"
      ],
      "metadata": {
        "id": "xbjwyjnTszeS"
      }
    },
    {
      "cell_type": "markdown",
      "source": [
        "### Problem 5\n",
        "\n",
        "Overloading comparison operator for two circles (<, >, ==, !=, >=, <=)"
      ],
      "metadata": {
        "id": "vXEpqj1-szeS"
      }
    },
    {
      "cell_type": "markdown",
      "source": [
        "### Problem 6\n",
        "\n",
        "Implement a 2D point class. Overload the comparison operators to compare two points based on their Euclidean distance from the origin. Euclidean distance = sqrt(x^2 + y^2)"
      ],
      "metadata": {
        "id": "JJWU4bUSszeS"
      }
    },
    {
      "cell_type": "markdown",
      "source": [
        "### Problem 7\n",
        "Overloading multiplication operator for two matrices"
      ],
      "metadata": {
        "id": "WinAg4feszeS"
      }
    },
    {
      "cell_type": "markdown",
      "source": [
        "## Inheritance"
      ],
      "metadata": {
        "id": "mZHDZufkszeS"
      }
    },
    {
      "cell_type": "markdown",
      "source": [
        "### Problem 1\n",
        "Create a class Vehicle that has a method drive that returns the string \"Driving a vehicle\". Create two subclasses, Car and Bicycle, that override this method to return \"Driving a car\" and \"Riding a bicycle\", respectively."
      ],
      "metadata": {
        "id": "cyFG6CaEszeS"
      }
    },
    {
      "cell_type": "markdown",
      "source": [
        "### Problem 2\n",
        "- Create a Class Person with attributes : name, age, address and method : introduce\n",
        "\n",
        "- Create a subclass Student of the class Person  that has an attribute : field_of_study a personalized method : introduce\n",
        "\n",
        "- Create another subclass Employee of the class Person that has an attribute : company a personalized method : introduce\n",
        "\n",
        "- Test your classes"
      ],
      "metadata": {
        "id": "pqicysiXszeT"
      }
    },
    {
      "cell_type": "markdown",
      "source": [
        "### Problem 3\n",
        "\n",
        "- Define two classes, BankAccount and SavingsAccount. The BankAccount class is a basic class for a bank account, it has a attributes : account number and balance, and two methods deposit and withdraw.  The SavingsAccount class inherits from the BankAccount class and adds a new attribute interest_rate and a new method add_interest. The add_interest method calculates the interest based on the balance and interest rate, and then calls the deposit method of the parent class to add the interest to the balance.\n",
        "\n",
        "- Add a method to the SavingsAccount class called check_balance that returns the current balance of the account.\n",
        "\n",
        "- Add a method to the BankAccount class called transfer that allows you to transfer a certain amount from one account to another. The method should take two arguments, the destination_account and the amount. The method should return False if the account does not have enough balance to complete the transfer, and True otherwise.\n",
        "\n",
        "- Create two objects of the SavingsAccount class and transfer money from one account to another using the transfer method."
      ],
      "metadata": {
        "id": "9Kv5Un3BszeT"
      }
    },
    {
      "cell_type": "markdown",
      "source": [
        "### Problem 2\n",
        "\n",
        "Create a class Person with name, age and gender as its attributes. Overload the > operator to compare two persons based on their age, such that p1 > p2 returns True if the age of p1 is greater than p2 and False otherwise."
      ],
      "metadata": {
        "id": "3MIVTBb7dzcG"
      }
    },
    {
      "cell_type": "markdown",
      "source": [
        "### Problem 4\n",
        "Create a class Vector that represents a vector in space, with x, y, and z as its attributes. Overload the * operator to return the dot product of two vectors, such that vector1 * vector2 returns the dot product of the two input vectors.\n"
      ],
      "metadata": {
        "id": "tL7S7qTreEe6"
      }
    },
    {
      "cell_type": "markdown",
      "source": [
        "### Problem 5\n",
        "\n",
        "Overloading comparison operator for two circles (<, >, ==, !=, >=, <=)"
      ],
      "metadata": {
        "id": "oDt1ZOsQbv7_"
      }
    },
    {
      "cell_type": "markdown",
      "source": [
        "### Problem 6\n",
        "\n",
        "Implement a 2D point class. Overload the comparison operators to compare two points based on their Euclidean distance from the origin. Euclidean distance = sqrt(x^2 + y^2)"
      ],
      "metadata": {
        "id": "ctnQw6urcM2Y"
      }
    },
    {
      "cell_type": "markdown",
      "source": [
        "### Problem 7\n",
        "Overloading multiplication operator for two matrices"
      ],
      "metadata": {
        "id": "tEZ_ZdVKcBTn"
      }
    },
    {
      "cell_type": "markdown",
      "source": [
        "## Inheritance"
      ],
      "metadata": {
        "id": "QkKhkdTHesrr"
      }
    },
    {
      "cell_type": "markdown",
      "source": [
        "### Problem 1\n",
        "Create a class Vehicle that has a method drive that returns the string \"Driving a vehicle\". Create two subclasses, Car and Bicycle, that override this method to return \"Driving a car\" and \"Riding a bicycle\", respectively."
      ],
      "metadata": {
        "id": "NJsNxsw8T6hp"
      }
    },
    {
      "cell_type": "markdown",
      "source": [
        "### Problem 2\n",
        "- Create a Class Person with attributes : name, age, address and method : introduce\n",
        "\n",
        "- Create a subclass Student of the class Person  that has an attribute : field_of_study a personalized method : introduce\n",
        "\n",
        "- Create another subclass Employee of the class Person that has an attribute : company a personalized method : introduce\n",
        "\n",
        "- Test your classes"
      ],
      "metadata": {
        "id": "sJlZr3WHhZ2C"
      }
    },
    {
      "cell_type": "markdown",
      "source": [
        "### Problem 3\n",
        "\n",
        "- Define two classes, BankAccount and SavingsAccount. The BankAccount class is a basic class for a bank account, it has a attributes : account number and balance, and two methods deposit and withdraw.  The SavingsAccount class inherits from the BankAccount class and adds a new attribute interest_rate and a new method add_interest. The add_interest method calculates the interest based on the balance and interest rate, and then calls the deposit method of the parent class to add the interest to the balance.\n",
        "\n",
        "- Add a method to the SavingsAccount class called check_balance that returns the current balance of the account.\n",
        "\n",
        "- Add a method to the BankAccount class called transfer that allows you to transfer a certain amount from one account to another. The method should take two arguments, the destination_account and the amount. The method should return False if the account does not have enough balance to complete the transfer, and True otherwise.\n",
        "\n",
        "- Create two objects of the SavingsAccount class and transfer money from one account to another using the transfer method."
      ],
      "metadata": {
        "id": "PyMDSJ-eT7Cd"
      }
    }
  ]
}